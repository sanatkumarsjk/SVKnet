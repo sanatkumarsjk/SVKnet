{
 "cells": [
  {
   "cell_type": "markdown",
   "metadata": {},
   "source": [
    "# Data Preparation for YOLO"
   ]
  },
  {
   "cell_type": "code",
   "execution_count": 1,
   "metadata": {},
   "outputs": [],
   "source": [
    "# Loading required packages\n",
    "import os\n",
    "import pandas as pd"
   ]
  },
  {
   "cell_type": "code",
   "execution_count": 2,
   "metadata": {},
   "outputs": [],
   "source": [
    "# Reading the csv file\n",
    "classes = pd.read_csv('final-classes.csv', header=None)\n",
    "classes.columns = ['Class']\n",
    "labels = list(classes.Class)"
   ]
  },
  {
   "cell_type": "code",
   "execution_count": 3,
   "metadata": {},
   "outputs": [],
   "source": [
    "train = pd.read_csv('train.csv')\n",
    "validation = pd.read_csv('validation.csv')\n",
    "test = pd.read_csv('test.csv')"
   ]
  },
  {
   "cell_type": "code",
   "execution_count": 4,
   "metadata": {},
   "outputs": [],
   "source": [
    "train['ClassNumber'] = [labels.index(i) for i in train.LabelName]\n",
    "train['width'] = train['XMax'] - train['XMin']\n",
    "train['height'] = train['YMax'] - train['YMin']\n",
    "train['x'] = (train['XMax'] + train['XMin'])/2\n",
    "train['y'] = (train['YMax'] + train['YMin'])/2"
   ]
  },
  {
   "cell_type": "code",
   "execution_count": 5,
   "metadata": {},
   "outputs": [],
   "source": [
    "train_yolo = train[['ClassNumber','ImageID','x','y','width','height']]"
   ]
  },
  {
   "cell_type": "code",
   "execution_count": 6,
   "metadata": {},
   "outputs": [
    {
     "data": {
      "text/html": [
       "<div>\n",
       "<style scoped>\n",
       "    .dataframe tbody tr th:only-of-type {\n",
       "        vertical-align: middle;\n",
       "    }\n",
       "\n",
       "    .dataframe tbody tr th {\n",
       "        vertical-align: top;\n",
       "    }\n",
       "\n",
       "    .dataframe thead th {\n",
       "        text-align: right;\n",
       "    }\n",
       "</style>\n",
       "<table border=\"1\" class=\"dataframe\">\n",
       "  <thead>\n",
       "    <tr style=\"text-align: right;\">\n",
       "      <th></th>\n",
       "      <th>ClassNumber</th>\n",
       "      <th>ImageID</th>\n",
       "      <th>x</th>\n",
       "      <th>y</th>\n",
       "      <th>width</th>\n",
       "      <th>height</th>\n",
       "    </tr>\n",
       "  </thead>\n",
       "  <tbody>\n",
       "    <tr>\n",
       "      <th>0</th>\n",
       "      <td>46</td>\n",
       "      <td>0000615b5a80f660</td>\n",
       "      <td>0.310000</td>\n",
       "      <td>0.927083</td>\n",
       "      <td>0.067500</td>\n",
       "      <td>0.079167</td>\n",
       "    </tr>\n",
       "    <tr>\n",
       "      <th>1</th>\n",
       "      <td>46</td>\n",
       "      <td>0000615b5a80f660</td>\n",
       "      <td>0.421250</td>\n",
       "      <td>0.839583</td>\n",
       "      <td>0.043750</td>\n",
       "      <td>0.072500</td>\n",
       "    </tr>\n",
       "    <tr>\n",
       "      <th>2</th>\n",
       "      <td>46</td>\n",
       "      <td>0000615b5a80f660</td>\n",
       "      <td>0.954688</td>\n",
       "      <td>0.486250</td>\n",
       "      <td>0.018125</td>\n",
       "      <td>0.020834</td>\n",
       "    </tr>\n",
       "    <tr>\n",
       "      <th>3</th>\n",
       "      <td>65</td>\n",
       "      <td>0000615b5a80f660</td>\n",
       "      <td>0.937500</td>\n",
       "      <td>0.309583</td>\n",
       "      <td>0.123750</td>\n",
       "      <td>0.097500</td>\n",
       "    </tr>\n",
       "    <tr>\n",
       "      <th>4</th>\n",
       "      <td>37</td>\n",
       "      <td>0000a16e4b057580</td>\n",
       "      <td>0.218437</td>\n",
       "      <td>0.513750</td>\n",
       "      <td>0.429375</td>\n",
       "      <td>0.490834</td>\n",
       "    </tr>\n",
       "  </tbody>\n",
       "</table>\n",
       "</div>"
      ],
      "text/plain": [
       "   ClassNumber           ImageID         x         y     width    height\n",
       "0           46  0000615b5a80f660  0.310000  0.927083  0.067500  0.079167\n",
       "1           46  0000615b5a80f660  0.421250  0.839583  0.043750  0.072500\n",
       "2           46  0000615b5a80f660  0.954688  0.486250  0.018125  0.020834\n",
       "3           65  0000615b5a80f660  0.937500  0.309583  0.123750  0.097500\n",
       "4           37  0000a16e4b057580  0.218437  0.513750  0.429375  0.490834"
      ]
     },
     "execution_count": 6,
     "metadata": {},
     "output_type": "execute_result"
    }
   ],
   "source": [
    "train_yolo.head()"
   ]
  },
  {
   "cell_type": "code",
   "execution_count": 7,
   "metadata": {},
   "outputs": [],
   "source": [
    "for root, dirs, files in os.walk(\"E:/Spring Term/DL for Visual Recognition/Project/Data/yolo_data/train/train_images\"):\n",
    "    for filename in files:\n",
    "        if filename.endswith(\".jpg\"):\n",
    "            fn = filename[:-4]\n",
    "            nf = train_yolo.loc[train_yolo['ImageID'] == fn]\n",
    "            keep_col = ['ClassNumber','x','y','width','height']\n",
    "            new_nf = nf[keep_col]\n",
    "            imgpath = \"E:/Spring Term/DL for Visual Recognition/Project/Data/yolo_data/train/labels/\" + fn + \".txt\"\n",
    "            new_nf.to_csv(imgpath, index=False, header=False, sep=' ')"
   ]
  },
  {
   "cell_type": "code",
   "execution_count": 8,
   "metadata": {},
   "outputs": [],
   "source": [
    "validation['ClassNumber'] = [labels.index(i) for i in validation.LabelName]\n",
    "validation['width'] = validation['XMax'] - validation['XMin']\n",
    "validation['height'] = validation['YMax'] - validation['YMin']\n",
    "validation['x'] = (validation['XMax'] + validation['XMin'])/2\n",
    "validation['y'] = (validation['YMax'] + validation['YMin'])/2"
   ]
  },
  {
   "cell_type": "code",
   "execution_count": 9,
   "metadata": {},
   "outputs": [],
   "source": [
    "validation_yolo = validation[['ClassNumber','ImageID','x','y','width','height']]"
   ]
  },
  {
   "cell_type": "code",
   "execution_count": 11,
   "metadata": {},
   "outputs": [
    {
     "data": {
      "text/html": [
       "<div>\n",
       "<style scoped>\n",
       "    .dataframe tbody tr th:only-of-type {\n",
       "        vertical-align: middle;\n",
       "    }\n",
       "\n",
       "    .dataframe tbody tr th {\n",
       "        vertical-align: top;\n",
       "    }\n",
       "\n",
       "    .dataframe thead th {\n",
       "        text-align: right;\n",
       "    }\n",
       "</style>\n",
       "<table border=\"1\" class=\"dataframe\">\n",
       "  <thead>\n",
       "    <tr style=\"text-align: right;\">\n",
       "      <th></th>\n",
       "      <th>ClassNumber</th>\n",
       "      <th>ImageID</th>\n",
       "      <th>x</th>\n",
       "      <th>y</th>\n",
       "      <th>width</th>\n",
       "      <th>height</th>\n",
       "    </tr>\n",
       "  </thead>\n",
       "  <tbody>\n",
       "    <tr>\n",
       "      <th>0</th>\n",
       "      <td>37</td>\n",
       "      <td>0019308d876736fe</td>\n",
       "      <td>0.506961</td>\n",
       "      <td>0.467737</td>\n",
       "      <td>0.835304</td>\n",
       "      <td>0.935475</td>\n",
       "    </tr>\n",
       "    <tr>\n",
       "      <th>1</th>\n",
       "      <td>24</td>\n",
       "      <td>002cfe2087f432e0</td>\n",
       "      <td>0.439717</td>\n",
       "      <td>0.632877</td>\n",
       "      <td>0.608334</td>\n",
       "      <td>0.516663</td>\n",
       "    </tr>\n",
       "    <tr>\n",
       "      <th>2</th>\n",
       "      <td>34</td>\n",
       "      <td>00385794700c832e</td>\n",
       "      <td>0.260271</td>\n",
       "      <td>0.941360</td>\n",
       "      <td>0.480542</td>\n",
       "      <td>0.117281</td>\n",
       "    </tr>\n",
       "    <tr>\n",
       "      <th>3</th>\n",
       "      <td>21</td>\n",
       "      <td>004a30a1ca460088</td>\n",
       "      <td>0.549516</td>\n",
       "      <td>0.468822</td>\n",
       "      <td>0.659052</td>\n",
       "      <td>0.691520</td>\n",
       "    </tr>\n",
       "    <tr>\n",
       "      <th>4</th>\n",
       "      <td>25</td>\n",
       "      <td>004a9ec75eca5910</td>\n",
       "      <td>0.500000</td>\n",
       "      <td>0.600374</td>\n",
       "      <td>1.000000</td>\n",
       "      <td>0.799231</td>\n",
       "    </tr>\n",
       "  </tbody>\n",
       "</table>\n",
       "</div>"
      ],
      "text/plain": [
       "   ClassNumber           ImageID         x         y     width    height\n",
       "0           37  0019308d876736fe  0.506961  0.467737  0.835304  0.935475\n",
       "1           24  002cfe2087f432e0  0.439717  0.632877  0.608334  0.516663\n",
       "2           34  00385794700c832e  0.260271  0.941360  0.480542  0.117281\n",
       "3           21  004a30a1ca460088  0.549516  0.468822  0.659052  0.691520\n",
       "4           25  004a9ec75eca5910  0.500000  0.600374  1.000000  0.799231"
      ]
     },
     "execution_count": 11,
     "metadata": {},
     "output_type": "execute_result"
    }
   ],
   "source": [
    "validation_yolo.head()"
   ]
  },
  {
   "cell_type": "code",
   "execution_count": 12,
   "metadata": {},
   "outputs": [],
   "source": [
    "for root, dirs, files in os.walk(\"E:/Spring Term/DL for Visual Recognition/Project/Data/yolo_data/validation/validation_images\"):\n",
    "    for filename in files:\n",
    "        if filename.endswith(\".jpg\"):\n",
    "            fn = filename[:-4]\n",
    "            nf = validation_yolo.loc[validation_yolo['ImageID'] == fn]\n",
    "            keep_col = ['ClassNumber','x','y','width','height']\n",
    "            new_nf = nf[keep_col]\n",
    "            imgpath = \"E:/Spring Term/DL for Visual Recognition/Project/Data/yolo_data/validation/validation_labels/\" + fn + \".txt\"\n",
    "            new_nf.to_csv(imgpath, index=False, header=False, sep=' ')"
   ]
  },
  {
   "cell_type": "code",
   "execution_count": 13,
   "metadata": {},
   "outputs": [],
   "source": [
    "test['ClassNumber'] = [labels.index(i) for i in test.LabelName]\n",
    "test['width'] = test['XMax'] - test['XMin']\n",
    "test['height'] = test['YMax'] - test['YMin']\n",
    "test['x'] = (test['XMax'] + test['XMin'])/2\n",
    "test['y'] = (test['YMax'] + test['YMin'])/2"
   ]
  },
  {
   "cell_type": "code",
   "execution_count": 14,
   "metadata": {},
   "outputs": [],
   "source": [
    "test_yolo = test[['ClassNumber','ImageID','x','y','width','height']]"
   ]
  },
  {
   "cell_type": "code",
   "execution_count": 15,
   "metadata": {},
   "outputs": [
    {
     "data": {
      "text/html": [
       "<div>\n",
       "<style scoped>\n",
       "    .dataframe tbody tr th:only-of-type {\n",
       "        vertical-align: middle;\n",
       "    }\n",
       "\n",
       "    .dataframe tbody tr th {\n",
       "        vertical-align: top;\n",
       "    }\n",
       "\n",
       "    .dataframe thead th {\n",
       "        text-align: right;\n",
       "    }\n",
       "</style>\n",
       "<table border=\"1\" class=\"dataframe\">\n",
       "  <thead>\n",
       "    <tr style=\"text-align: right;\">\n",
       "      <th></th>\n",
       "      <th>ClassNumber</th>\n",
       "      <th>ImageID</th>\n",
       "      <th>x</th>\n",
       "      <th>y</th>\n",
       "      <th>width</th>\n",
       "      <th>height</th>\n",
       "    </tr>\n",
       "  </thead>\n",
       "  <tbody>\n",
       "    <tr>\n",
       "      <th>0</th>\n",
       "      <td>31</td>\n",
       "      <td>00045d609ca3f4eb</td>\n",
       "      <td>0.475394</td>\n",
       "      <td>0.629101</td>\n",
       "      <td>0.491188</td>\n",
       "      <td>0.741799</td>\n",
       "    </tr>\n",
       "    <tr>\n",
       "      <th>1</th>\n",
       "      <td>7</td>\n",
       "      <td>000e4e7ed48c932d</td>\n",
       "      <td>0.469951</td>\n",
       "      <td>0.748755</td>\n",
       "      <td>0.290027</td>\n",
       "      <td>0.442106</td>\n",
       "    </tr>\n",
       "    <tr>\n",
       "      <th>2</th>\n",
       "      <td>18</td>\n",
       "      <td>00132ce7803368cf</td>\n",
       "      <td>0.560051</td>\n",
       "      <td>0.520485</td>\n",
       "      <td>0.809769</td>\n",
       "      <td>0.945017</td>\n",
       "    </tr>\n",
       "    <tr>\n",
       "      <th>3</th>\n",
       "      <td>18</td>\n",
       "      <td>001c31a8ace249e9</td>\n",
       "      <td>0.500238</td>\n",
       "      <td>0.500045</td>\n",
       "      <td>0.999292</td>\n",
       "      <td>0.999116</td>\n",
       "    </tr>\n",
       "    <tr>\n",
       "      <th>4</th>\n",
       "      <td>13</td>\n",
       "      <td>001cddbffb428689</td>\n",
       "      <td>0.495116</td>\n",
       "      <td>0.548036</td>\n",
       "      <td>0.617612</td>\n",
       "      <td>0.786748</td>\n",
       "    </tr>\n",
       "  </tbody>\n",
       "</table>\n",
       "</div>"
      ],
      "text/plain": [
       "   ClassNumber           ImageID         x         y     width    height\n",
       "0           31  00045d609ca3f4eb  0.475394  0.629101  0.491188  0.741799\n",
       "1            7  000e4e7ed48c932d  0.469951  0.748755  0.290027  0.442106\n",
       "2           18  00132ce7803368cf  0.560051  0.520485  0.809769  0.945017\n",
       "3           18  001c31a8ace249e9  0.500238  0.500045  0.999292  0.999116\n",
       "4           13  001cddbffb428689  0.495116  0.548036  0.617612  0.786748"
      ]
     },
     "execution_count": 15,
     "metadata": {},
     "output_type": "execute_result"
    }
   ],
   "source": [
    "test_yolo.head()"
   ]
  },
  {
   "cell_type": "code",
   "execution_count": 16,
   "metadata": {},
   "outputs": [],
   "source": [
    "for root, dirs, files in os.walk(\"E:/Spring Term/DL for Visual Recognition/Project/Data/yolo_data/test/test_images\"):\n",
    "    for filename in files:\n",
    "        if filename.endswith(\".jpg\"):\n",
    "            fn = filename[:-4]\n",
    "            nf = test_yolo.loc[test_yolo['ImageID'] == fn]\n",
    "            keep_col = ['ClassNumber','x','y','width','height']\n",
    "            new_nf = nf[keep_col]\n",
    "            imgpath = \"E:/Spring Term/DL for Visual Recognition/Project/Data/yolo_data/test/test_labels/\" + fn + \".txt\"\n",
    "            new_nf.to_csv(imgpath, index=False, header=False, sep=' ')"
   ]
  },
  {
   "cell_type": "code",
   "execution_count": 20,
   "metadata": {},
   "outputs": [],
   "source": [
    "file_train = open(\"E:/Spring Term/DL for Visual Recognition/Project/Data/yolo_data/train/trains.txt\", 'w')"
   ]
  },
  {
   "cell_type": "code",
   "execution_count": 21,
   "metadata": {},
   "outputs": [],
   "source": [
    "for file in os.listdir(\"E:/Spring Term/DL for Visual Recognition/Project/Data/yolo_data/train/train_images\"):\n",
    "    if file.endswith('.jpg'):\n",
    "        title = file.split('.')[0]\n",
    "        file_train.write(\"E:/Spring Term/DL for Visual Recognition/Project/Data/yolo_data/train/train_images/\" + title + \".jpg\" + \"\\n\")\n",
    "        "
   ]
  },
  {
   "cell_type": "code",
   "execution_count": 22,
   "metadata": {},
   "outputs": [],
   "source": [
    "file_train.close()"
   ]
  },
  {
   "cell_type": "code",
   "execution_count": 23,
   "metadata": {},
   "outputs": [],
   "source": [
    "file_validation = open(\"E:/Spring Term/DL for Visual Recognition/Project/Data/yolo_data/validation/validation.txt\", 'w')"
   ]
  },
  {
   "cell_type": "code",
   "execution_count": 24,
   "metadata": {},
   "outputs": [],
   "source": [
    "for file in os.listdir(\"E:/Spring Term/DL for Visual Recognition/Project/Data/yolo_data/validation/validation_images\"):\n",
    "    if file.endswith('.jpg'):\n",
    "        title = file.split('.')[0]\n",
    "        file_validation.write(\"E:/Spring Term/DL for Visual Recognition/Project/Data/yolo_data/validation/validation_images/\" + title + \".jpg\" + \"\\n\")"
   ]
  },
  {
   "cell_type": "code",
   "execution_count": 25,
   "metadata": {},
   "outputs": [],
   "source": [
    "file_validation.close()"
   ]
  },
  {
   "cell_type": "code",
   "execution_count": 26,
   "metadata": {},
   "outputs": [],
   "source": [
    "file_test = open(\"E:/Spring Term/DL for Visual Recognition/Project/Data/yolo_data/test/test.txt\", 'w')"
   ]
  },
  {
   "cell_type": "code",
   "execution_count": 27,
   "metadata": {},
   "outputs": [],
   "source": [
    "for file in os.listdir(\"E:/Spring Term/DL for Visual Recognition/Project/Data/yolo_data/test/test_images\"):\n",
    "    if file.endswith('.jpg'):\n",
    "        title = file.split('.')[0]\n",
    "        file_test.write(\"E:/Spring Term/DL for Visual Recognition/Project/Data/yolo_data/test/test_images/\" + title + \".jpg\" + \"\\n\")"
   ]
  },
  {
   "cell_type": "code",
   "execution_count": 28,
   "metadata": {},
   "outputs": [],
   "source": [
    "file_test.close()"
   ]
  },
  {
   "cell_type": "code",
   "execution_count": null,
   "metadata": {},
   "outputs": [],
   "source": []
  }
 ],
 "metadata": {
  "kernelspec": {
   "display_name": "Python 3",
   "language": "python",
   "name": "python3"
  },
  "language_info": {
   "codemirror_mode": {
    "name": "ipython",
    "version": 3
   },
   "file_extension": ".py",
   "mimetype": "text/x-python",
   "name": "python",
   "nbconvert_exporter": "python",
   "pygments_lexer": "ipython3",
   "version": "3.6.5"
  }
 },
 "nbformat": 4,
 "nbformat_minor": 2
}
