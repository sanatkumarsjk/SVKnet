{
 "cells": [
  {
   "cell_type": "code",
   "execution_count": 1,
   "metadata": {},
   "outputs": [],
   "source": [
    "import pandas as pd"
   ]
  },
  {
   "cell_type": "code",
   "execution_count": null,
   "metadata": {},
   "outputs": [],
   "source": [
    "# Reading the csv file\n",
    "classes = pd.read_csv('final-classes.csv', header=None)\n",
    "classes.columns = ['Class']"
   ]
  },
  {
   "cell_type": "code",
   "execution_count": null,
   "metadata": {},
   "outputs": [],
   "source": [
    "labels = list(classes.Class)"
   ]
  },
  {
   "cell_type": "code",
   "execution_count": null,
   "metadata": {},
   "outputs": [],
   "source": [
    "# Loading the data\n",
    "train = pd.read_csv('train.csv')\n",
    "validation = pd.read_csv('validation.csv')\n",
    "test = pd.read_csv('test.csv')"
   ]
  },
  {
   "cell_type": "code",
   "execution_count": null,
   "metadata": {},
   "outputs": [],
   "source": [
    "# Keeping only data for our labels\n",
    "train = train[train['LabelName'].isin(labels)]\n",
    "validation = validation[validation['LabelName'].isin(labels)]\n",
    "test = test[test['LabelName'].isin(labels)]"
   ]
  },
  {
   "cell_type": "code",
   "execution_count": null,
   "metadata": {},
   "outputs": [],
   "source": [
    "train.reset_index(drop=True, inplace=True)\n",
    "validation.reset_index(drop=True, inplace=True)\n",
    "test.reset_index(drop=True, inplace=True)"
   ]
  },
  {
   "cell_type": "code",
   "execution_count": null,
   "metadata": {},
   "outputs": [],
   "source": [
    "# Putting in csv file for further use\n",
    "train.to_csv('train.csv', index=False)\n",
    "validation.to_csv('validation.csv', index=False)\n",
    "test.to_csv('test.csv', index=False)"
   ]
  },
  {
   "cell_type": "code",
   "execution_count": 2,
   "metadata": {},
   "outputs": [],
   "source": [
    "# Loading the data\n",
    "train = pd.read_csv('train.csv')\n",
    "validation = pd.read_csv('validation.csv')\n",
    "test = pd.read_csv('test.csv')"
   ]
  },
  {
   "cell_type": "code",
   "execution_count": 3,
   "metadata": {},
   "outputs": [
    {
     "data": {
      "text/plain": [
       "(103255, 3972, 12469)"
      ]
     },
     "execution_count": 3,
     "metadata": {},
     "output_type": "execute_result"
    }
   ],
   "source": [
    "train.shape[0], validation.shape[0], test.shape[0]"
   ]
  },
  {
   "cell_type": "code",
   "execution_count": null,
   "metadata": {},
   "outputs": [],
   "source": [
    "train_class_count = pd.DataFrame(train.LabelName.value_counts())\n",
    "train_class_count.columns = ['Class_Count']\n",
    "train_class_count['LabelName'] = train_class_count.index\n",
    "train_class_count.reset_index(drop=True, inplace=True)\n",
    "train_class_count = train_class_count[['LabelName', 'Class_Count']]\n",
    "train_class_count.to_csv('train_class_count.csv', index=False)"
   ]
  },
  {
   "cell_type": "code",
   "execution_count": null,
   "metadata": {},
   "outputs": [],
   "source": [
    "validation_class_count = pd.DataFrame(validation.LabelName.value_counts())\n",
    "validation_class_count.columns = ['Class_Count']\n",
    "validation_class_count['LabelName'] = validation_class_count.index\n",
    "validation_class_count.reset_index(drop=True, inplace=True)\n",
    "validation_class_count = validation_class_count[['LabelName', 'Class_Count']]\n",
    "validation_class_count.to_csv('validation_class_count.csv', index=False)"
   ]
  },
  {
   "cell_type": "code",
   "execution_count": null,
   "metadata": {},
   "outputs": [],
   "source": [
    "test_class_count = pd.DataFrame(test.LabelName.value_counts())\n",
    "test_class_count.columns = ['Class_Count']\n",
    "test_class_count['LabelName'] = test_class_count.index\n",
    "test_class_count.reset_index(drop=True, inplace=True)\n",
    "test_class_count = test_class_count[['LabelName', 'Class_Count']]\n",
    "test_class_count.to_csv('test_class_count.csv', index=False)"
   ]
  },
  {
   "cell_type": "code",
   "execution_count": 4,
   "metadata": {},
   "outputs": [
    {
     "data": {
      "text/plain": [
       "4c662f7e92ea587e    180\n",
       "ab160b04c9a03bbf    153\n",
       "736b375d0b1d9bec    137\n",
       "e1747fc714a1f0e0    135\n",
       "edeedd4080f53d54    128\n",
       "b1c00a409bfba6a2    104\n",
       "a00c61d2965ee7da    103\n",
       "013f0ff1e9186bea     95\n",
       "1b84fa303865c60f     90\n",
       "000d1976fc8ebfe7     86\n",
       "2f22f458e72501c6     84\n",
       "0738f8c18bface92     82\n",
       "9b9c27af3f084a6b     81\n",
       "02228f3e25f4ee85     81\n",
       "4297a0b9ef4b205e     81\n",
       "1aac7e98d34efdce     80\n",
       "ff5e9d8c10ac6a3d     75\n",
       "21074488618af659     74\n",
       "32f446dd9f52d135     73\n",
       "096322ca16f1dcee     72\n",
       "02fa9ba73949041f     71\n",
       "2ada5cf4204a208c     69\n",
       "a88fd5641d091f51     69\n",
       "a6e42c7810aba30f     68\n",
       "b0d796877a359453     67\n",
       "01ae5c150cbf4249     67\n",
       "b45ad329929c3348     66\n",
       "0f3626ac8c188c06     65\n",
       "0f7a2f04a4ad1a5c     64\n",
       "0867b67ea1d6619a     64\n",
       "                   ... \n",
       "1b4c107c02c91949      1\n",
       "128e8f6871c30fb8      1\n",
       "6d8bcfc179eafc8c      1\n",
       "116f90bc57933918      1\n",
       "1d4663bd0121679f      1\n",
       "3365c12e6b19b2ee      1\n",
       "e30c21177b497a75      1\n",
       "05f2055559f6633c      1\n",
       "d4d4f68a593153ee      1\n",
       "93a4f96157d3c1cf      1\n",
       "c6735d62c58dc260      1\n",
       "06a4bb91398f9901      1\n",
       "2608ffe9be43e648      1\n",
       "062d172c25b4b912      1\n",
       "d5b6563df2e3b73a      1\n",
       "99aa8d01943479d5      1\n",
       "afc3b09b1681b8f9      1\n",
       "544741e452797a20      1\n",
       "88929a1ad9550889      1\n",
       "2a6cfde00f174da1      1\n",
       "c17bd910c275017f      1\n",
       "910d07205b18714c      1\n",
       "49cb2a29f2617da4      1\n",
       "724750e7eecef1b9      1\n",
       "63cb005e636e8e86      1\n",
       "47db25b2e161f784      1\n",
       "457b40d7f4f586b0      1\n",
       "243a476fb389b2ee      1\n",
       "102b0be68d537b18      1\n",
       "009b02d58c46ed73      1\n",
       "Name: ImageID, Length: 34430, dtype: int64"
      ]
     },
     "execution_count": 4,
     "metadata": {},
     "output_type": "execute_result"
    }
   ],
   "source": [
    "train.ImageID.value_counts()"
   ]
  },
  {
   "cell_type": "code",
   "execution_count": null,
   "metadata": {},
   "outputs": [],
   "source": []
  }
 ],
 "metadata": {
  "kernelspec": {
   "display_name": "Python 3",
   "language": "python",
   "name": "python3"
  },
  "language_info": {
   "codemirror_mode": {
    "name": "ipython",
    "version": 3
   },
   "file_extension": ".py",
   "mimetype": "text/x-python",
   "name": "python",
   "nbconvert_exporter": "python",
   "pygments_lexer": "ipython3",
   "version": "3.6.5"
  }
 },
 "nbformat": 4,
 "nbformat_minor": 2
}
